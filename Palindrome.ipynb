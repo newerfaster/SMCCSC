{
 "cells": [
  {
   "cell_type": "markdown",
   "metadata": {},
   "source": [
    "Here is a notebook for testing palindromes.\n",
    "\n",
    "What is a palindrome?  Look at Wikipedia: https://en.wikipedia.org/wiki/Palindrome\n",
    "\n",
    "Want lots of examples?  Look here: http://www.derf.net/palindromes/old.palindrome.html"
   ]
  },
  {
   "cell_type": "code",
   "execution_count": 1,
   "metadata": {},
   "outputs": [],
   "source": [
    "def is_palindrome(test_string):\n",
    "    \"\"\"\n",
    "    This function checks if the string is a palindrome\n",
    "    \"\"\"\n",
    "    l=len(test_string)\n",
    "    half_way=int(l/2) #This is half way through the string (what if l is odd?)\n",
    "    index=0\n",
    "    while (index<half_way and test_string[index]==test_string[l-index-1]):\n",
    "        index=index+1\n",
    "    return index==half_way #If it made it this far, it is a palindrome"
   ]
  },
  {
   "cell_type": "code",
   "execution_count": 2,
   "metadata": {},
   "outputs": [],
   "source": [
    "test_strings=[\"racecar\", \"racingcar\", \"steponnopets\", \"oso\", \"hannah\", \"hello\"]"
   ]
  },
  {
   "cell_type": "code",
   "execution_count": 3,
   "metadata": {},
   "outputs": [
    {
     "name": "stdout",
     "output_type": "stream",
     "text": [
      "racecar is a palindrome\n",
      "racingcar is not a palindrome\n",
      "steponnopets is a palindrome\n",
      "oso is a palindrome\n",
      "hannah is a palindrome\n",
      "hello is not a palindrome\n"
     ]
    }
   ],
   "source": [
    "for s in test_strings:\n",
    "    print((s + \" is \") + (\"\" if is_palindrome(s) else \"not \") + \"a palindrome\" ) "
   ]
  },
  {
   "cell_type": "code",
   "execution_count": 4,
   "metadata": {},
   "outputs": [],
   "source": [
    "more_test_strings=[\"the hat i take\", \"I like to drive my hot racecar to the park?\", \"the hairs of the rat are heavy\", \"the teller is prophetic\"]"
   ]
  },
  {
   "cell_type": "code",
   "execution_count": 27,
   "metadata": {},
   "outputs": [],
   "source": [
    "def clean_string(test_string):\n",
    "    import re\n",
    "    return re.sub('\\W+','', test_string )"
   ]
  },
  {
   "cell_type": "code",
   "execution_count": 5,
   "metadata": {},
   "outputs": [],
   "source": [
    "def brute_force_biggest_palindrome(test_string):\n",
    "    \"\"\"\n",
    "    This function finds the biggest palindrome using a brute force search\n",
    "    \"\"\"\n",
    "    #start by stripping whitespace and punctuation\n",
    "    import re\n",
    "    clean_string = re.sub('\\W+','', test_string )\n",
    "    l=len(clean_string)\n",
    "    big_start=-1\n",
    "    big_end=-1\n",
    "    biggest=0\n",
    "    #Iterate through all substrings and check for palindrome\n",
    "    for i in range(0,l):\n",
    "        for j in range (i+1, l):\n",
    "            current_string=clean_string[i:j]\n",
    "            if is_palindrome(current_string):\n",
    "                if(len(current_string)>biggest):\n",
    "                    biggest=len(current_string)\n",
    "                    big_start=i\n",
    "                    big_end=j\n",
    "    return clean_string[big_start:big_end]   "
   ]
  },
  {
   "cell_type": "code",
   "execution_count": 6,
   "metadata": {},
   "outputs": [
    {
     "name": "stdout",
     "output_type": "stream",
     "text": [
      "atita\n",
      "otracecarto\n",
      "heratareh\n",
      "elle\n"
     ]
    }
   ],
   "source": [
    "for s in more_test_strings:\n",
    "    print(brute_force_biggest_palindrome(s))"
   ]
  },
  {
   "cell_type": "code",
   "execution_count": 7,
   "metadata": {},
   "outputs": [],
   "source": [
    "def biggest_palindrome(test_string):\n",
    "    \"\"\"\n",
    "    This function finds the biggest palindrome more efficiently\n",
    "    \"\"\"\n",
    "    #start by stripping whitespace and punctuation\n",
    "    import re\n",
    "    clean_string = re.sub('\\W+','', test_string )\n",
    "    l=len(clean_string)\n",
    "    candidates=[]\n",
    "    biggest=0\n",
    "    big_start=-1\n",
    "    big_end=-1\n",
    "    surviving=[]\n",
    "    #Iterate through all characters in the string\n",
    "    for i in range(0,l):\n",
    "        #That character is a length 1 palindrome\n",
    "        surviving=[i]\n",
    "        #If the character is repeated, it makes a length 2 palindrome\n",
    "        if clean_string[i-1]==clean_string[i]:\n",
    "            surviving.append(i-1)\n",
    "        for j in candidates:\n",
    "            #Check if the palindrome substring [j:i-1] can be extended to [j-1:i] \n",
    "            if clean_string[j-1]==clean_string[i]:\n",
    "                surviving.append(j-1)\n",
    "            #If not, see if [j:i-1] is worth keeping\n",
    "            else:\n",
    "                if (i-j)> biggest:\n",
    "                    biggest=i-j\n",
    "                    big_start=j\n",
    "                    big_end=i-1\n",
    "        candidates=surviving\n",
    "    #After reaching the end of the string, check all the candidates to see if they are the longest\n",
    "    for j in candidates:\n",
    "        if (l-j)> biggest:\n",
    "                    biggest=l-j\n",
    "                    big_start=j\n",
    "                    big_end=l-1\n",
    "    return clean_string[big_start:big_end+1]"
   ]
  },
  {
   "cell_type": "code",
   "execution_count": 8,
   "metadata": {},
   "outputs": [
    {
     "name": "stdout",
     "output_type": "stream",
     "text": [
      "atita\n",
      "otracecarto\n",
      "heratareh\n",
      "elle\n"
     ]
    }
   ],
   "source": [
    "for s in more_test_strings:\n",
    "    print(biggest_palindrome(s))"
   ]
  },
  {
   "cell_type": "markdown",
   "metadata": {},
   "source": [
    "Manacher's algorthm needs to insert a dummy character between the characters of a string.  What is the most efficient way to do that in Python?  "
   ]
  },
  {
   "cell_type": "code",
   "execution_count": 9,
   "metadata": {},
   "outputs": [],
   "source": [
    "def insert_dummy_chars(string):\n",
    "    s=[\"a\"]*(2*len(string))\n",
    "    s[::2]=string\n",
    "    s[1::2]=\"|\"*(len(string))\n",
    "    return ''.join(s)[0:-1]\n",
    "def insert_dummy_chars_2(string):\n",
    "    return ''.join([x+\"|\" for x in string])[0:-1]\n",
    "def insert_dummy_chars_3(string):\n",
    "    return ''.join([val for pair in zip(list(string), [\"|\"]*len(string)) for val in pair])[0:-1]"
   ]
  },
  {
   "cell_type": "code",
   "execution_count": 10,
   "metadata": {},
   "outputs": [],
   "source": [
    "def test_method(method, test_string, print_result=False):\n",
    "    #Used to test the performance of methods\n",
    "    import time\n",
    "    t0 = time.time()\n",
    "    if print_result:\n",
    "        print(method(test_string))\n",
    "    method(test_string)\n",
    "    t1 = time.time()\n",
    "    print(t1-t0)"
   ]
  },
  {
   "cell_type": "code",
   "execution_count": 11,
   "metadata": {},
   "outputs": [
    {
     "name": "stdout",
     "output_type": "stream",
     "text": [
      "0.451198101044\n",
      "0.697851896286\n",
      "1.70982909203\n"
     ]
    }
   ],
   "source": [
    "test_method(insert_dummy_chars, \"hello\"*1000000)\n",
    "test_method(insert_dummy_chars_2, \"hello\"*1000000)\n",
    "test_method(insert_dummy_chars_3, \"hello\"*1000000)"
   ]
  },
  {
   "cell_type": "code",
   "execution_count": 12,
   "metadata": {},
   "outputs": [],
   "source": [
    "def print_progress(s, c, i, r):\n",
    "    #This method was used to debug manachers algorithm\n",
    "    str=\"\"\n",
    "    for k in range(0,len(s)):\n",
    "        l=2*i-r\n",
    "        j=2*c-i\n",
    "        if (k==l):\n",
    "            str=str+\"<\"\n",
    "        if (k==j):\n",
    "            str=str+\"{\"\n",
    "        if (k==i):\n",
    "            str=str+\"[\"\n",
    "        if (k==c):\n",
    "            str=str+\"\\\"\"\n",
    "        str=str+s[k]\n",
    "        if (k==c):\n",
    "            str=str+\"\\\"\"\n",
    "        if (k==i):\n",
    "            str=str+\"]\"\n",
    "        if (k==j):\n",
    "            str=str+\"}\"\n",
    "        if (k==r):\n",
    "            str=str+\">\"\n",
    "    print(str)"
   ]
  },
  {
   "cell_type": "code",
   "execution_count": 13,
   "metadata": {},
   "outputs": [],
   "source": [
    "def manachers(test_string):\n",
    "    \"\"\"\n",
    "    This function finds the biggest palindrome using Manacher's algorithm\n",
    "    \"\"\"\n",
    "    #start by stripping whitespace and punctuation\n",
    "    import re\n",
    "    clean_string = re.sub('\\W+','', test_string )\n",
    "    csl=len(clean_string)\n",
    "    L=2*csl-1\n",
    "    chars=insert_dummy_chars(clean_string)\n",
    "    lengths=[0]*L\n",
    "    c=0 #This is the center of the right-most known palindrome\n",
    "    r=0 #This is the right end of the right-most known palindrome\n",
    "    max_len=0\n",
    "    max_i=0\n",
    "    #Go through all positions and find the lenght of the palindrome centered there\n",
    "    for i in range(0,L):\n",
    "        #By symmetry of palindromes, we can infers some lengths from their mirrors to the left\n",
    "        if(i<r):\n",
    "            lengths[i]=min(lengths[2*c-i], r-i)\n",
    "        else: #we have gone beyond the limits of what's known\n",
    "            r=i\n",
    "        if (lengths[i]+i==r): #The palindrome might extend beyond r.\n",
    "            while (2*i-r>=0) and (r<L-1) and (chars[r+1]==chars[2*i-r-1]) :\n",
    "                r=r+1\n",
    "                lengths[i]=lengths[i]+1\n",
    "                #check if its the biggest yet found\n",
    "                if lengths[i]>max_len:\n",
    "                    max_len=lengths[i]\n",
    "                    max_i=i\n",
    "            c=i #reset the center\n",
    "    return clean_string[(1+max_i-max_len)/2:1+(max_i+max_len)/2]"
   ]
  },
  {
   "cell_type": "code",
   "execution_count": 14,
   "metadata": {},
   "outputs": [
    {
     "name": "stdout",
     "output_type": "stream",
     "text": [
      "atita\n",
      "otracecarto\n",
      "heratareh\n",
      "elle\n"
     ]
    }
   ],
   "source": [
    "for s in more_test_strings:\n",
    "    print(manachers(s))"
   ]
  },
  {
   "cell_type": "markdown",
   "metadata": {},
   "source": [
    "Define a very large string to test with.  And a method which generates test strings too."
   ]
  },
  {
   "cell_type": "code",
   "execution_count": 15,
   "metadata": {},
   "outputs": [],
   "source": [
    "big_test_string=\"ieosoieieiekdkiekwowokdiekieiekdidkghgitheihhhgiehwowooejhdoihaoabaoifoiqo\\\n",
    "fhfhghgheieheidhdodiewososdfhsdoifksdlkhfwslldiofijwoidkjfoiwjokdjkjflsdjfowjjjdjjjdjjsjjsjjd\\\n",
    "iieiidiiekwowkdhhfhfiehfidfhghghgheiehghghghhghghhehehghththghfwoshdfosdfofhfhfhhhhshflsjhffdd\\\n",
    "iririirifkrifkfirkkfkrkkfifffirkrifkrirkfirkkkvkrifkfoekfifkfkfrjgkfjgirjfkfirkfjgkfndkdnfjejff\\\n",
    "isisiisiieieiidiiwiwiisidieieisisiieieiisisieieisisieieisisiieieisieisisieieiisiidiieisiisieiisis\\\n",
    "iiiiiiiiiiiiiitiiiiiiiiiiittiiiiiiiiiiiiiiitiiiiiiiiiihiitiiriieiiriitiiiviisisisisidifisidfisidfi\\\n",
    "sskskslslslslsdfjwodjsdoifsdfjslkfsldkjflskdjfowejfkdjfowjkdodkfjowidfksdjfwdokfjowdijfkkskkskgh\\\n",
    "hggghhghfjghgjfhgjghhghhgjfhgjfhgjjfhggfhgjghfhfjkghgjfhgjfhhfhhgjfhgjfhfjghgjjfjfhgjfhfjghfjhdjfhg\\\n",
    "hghghghhghhghhghghhghhghhggghhgghhghhghhghhghhggghgghghhghhgghgjfhghhghhghghgjjghhghhghhghhggghgghg\\\n",
    "ghhghtyghtyhgythghhghgythgythgjfhgjythgjfythgjdhghghhgjfhgythgyrnfjgyhgjfhgythgjdhghghghfhgjrythgjfhgh\\\n",
    "hghhghtjgyghtjfhghtyghgjfhgythghghhghhgyghtytghghghghghhrythgjdhgyggggfggggggghghgggggghgggghggghggggg\\\n",
    "ggggghgggggghggghgghgghggggghgggghgghgghgythggghghgjfhfjghfjghgghghghgjghfjghghghurhgurjfsdjhfdsjodwhvs\\\n",
    "hhhhhhhhhhghhhhhhhhhhthhhhhhhhhhyhhhhhhhhhhhthhhhhhhhhhhhghhhhhhhhghhghghfhghthhghtuthgufhurhghfhfhfhf\\\n",
    "racecarracecareracecareiiiiiiiiiiiiiiiracecariiiiiiiiiiiiiiiiracecariiiiiiiiracecar\\\n",
    "fhfhghgheieheidhdodiewososdfhsdoifksdlkhfwslldiofijwxoidkjfoiwjokdjkjflsdjfowjjjdjjjdjjsjjsjjd\\\n",
    "iieiidiiekwowkdhhfhfiehfidfhghghgheiehghghghhghghxhehehghththghfwoshdfosdfofhfhfhhhhshflsjhffdd\\\n",
    "iririirifkrifkfirkkfkrkkfifffirkrifkrirkfirkkkxvkrifkfoekfifkfkfrjgkfjgirjfkfirkfjgkfndkdnfjejff\\\n",
    "isisiisiieieiidiiwiwiisidieieisisiieieiisixsieieisisieieisisiieieisieisisieieiisiidiieisiisieiisis\\\n",
    "iiiiiiiiiiiiiitiiiiiiiiiiittiiiiiiiiiixiiiiitiiiiiiiiiihiitiiriieiiriitiiiviisisisisidifisidfisidfi\\\n",
    "sskskslslslslsdfjwodjsdoifsdfjslkfxsldkjflskdjfowejfkdjfowjkdodkfjowidfksdjfwdokfjowdijfkkskkskgh\\\n",
    "hggghhghfjghgjfhgjghhghhgjfhgjfxhgjjfhggfhgjghfhfjkghgjfhgjfhhfhhgjfhgjfhfjghgjjfjfhgjfhfjghfjhdjfhg\\\n",
    "hghghghhghhghhghghhghhghhgggxhhgghhghhghhghhghhggghgghghhghhgghgjfhghhghhghghgjjghhghhghhghhggghgghg\\\n",
    "ghhghtyghtyhgythghhghgythxgythgjfhgjythgjfythgjdhghghhgjfhgythgyrnfjgyhgjfhgythgjdhghghghfhgjrythgjfhgh\\\n",
    "hghhghtjgyghtjfhghtyghxgjfhgythghghhghhgyghtytghghghghghhrythgjdhgyggggfggggggghghgggggghgggghggghggggg\\\n",
    "ggggghgggggghggghggxhgghggggghgggghgghgghgythggghghgjfhfjghfjghgghghghgjghfjghghghurhgurjfsdjhfdsjodwhvs\\\n",
    "hhhhhhhhhhghhhhhhxhhhhthhhhhhhhhhyhhhhhhhhhhhthhhhhhhhhhhhghhhhhhhhghhghghfhghthhghtuthgufhurhghfhfhfhf\\\n",
    "fhfhghgheieheidhdodiewoxxxsosdfhsdoifksdlkhfwslldiofijwoidkjfoiwjokdjkjflsdxxxjfowjjjdjjjdjjsjjsjjd\\\n",
    "iieiidiiekwowkdhhxxfhfiehfidfhghghgheiehghghghhghghhehehghththghfwoshdfosdfofhfhfhhhhshflsjhffdd\\\n",
    "iririirifkrifkfirkkfkrkkfifffirkrifkrirkfirkkkvkrifkxfoekfifkfkfrjgkfjgirjfkfirkfjgkfndkdnfjejff\\\n",
    "isisiisiieieiidiiwiwiisidieieisisiieieiisisieieisisxxxieieisisiieieisieisisieieiisiidiieisiisieiisis\\\n",
    "iiiiiiiiiiiiiitiiiiiiiiiiittiiiiiixiiiiiiiiitiiiiiiiixxiihiitiiriieiiriitiiiviisisisisidifisidfisidfi\\\n",
    "sskskslslslslsdfjwodjsdoifsdfjslkfxsldkjflskdjfowejfkdjfowjkdodkfjowidfksdjfwdokfjowdijfkkskkskgh\\\n",
    "hggghhghfjghgjfhgjghhghhgjfhgjfhgjxjfhggfhgjghfhfjkghgjfhgjfhhfhhgjfhgjfhfjghgjjfjfhgjfhfjghfjhdjfhg\\\n",
    "hghghghhghhghhghghhghhghhggghhxgghhghhghhghhghhggghgghghhghhgghgjfhghhghhghghgjjghhghhghhghhggghgghg\\\n",
    "ghhghtyghtyhgythghhghgythgythgjfxhgjythgjfythgjdhghghhgjfhgythgyrnfjgyhgjfhgythgjdhghghghfhgjrythgjfhgh\\\n",
    "hghhghtjgyghtjfhghtyghgjfhgytxhghghhghhgyghtytghghghghghhrythgjdhgyggggfggggggghghgggggghgggghggghggggg\\\n",
    "ggggghgggggghggghgghgghgggxgghgggghgghgghgythggghghgjfhfjghfjghgghghghgjghfjghghghurhgurjfsdjhfdsjodwhvs\\\n",
    "hhhhhhhhhhghhhhhhhhhhthhhhhxhhhhhyhhhhhhxhhhhhthhhhhhxhhhhhhghhhhhhhhghhghghfhghthhghtuthgufhurhghfhfhfhf\""
   ]
  },
  {
   "cell_type": "code",
   "execution_count": 16,
   "metadata": {},
   "outputs": [
    {
     "data": {
      "text/plain": [
       "3733"
      ]
     },
     "execution_count": 16,
     "metadata": {},
     "output_type": "execute_result"
    }
   ],
   "source": [
    "len(big_test_string)"
   ]
  },
  {
   "cell_type": "code",
   "execution_count": 17,
   "metadata": {},
   "outputs": [],
   "source": [
    "import random\n",
    "def rand_string(length, num_characters):\n",
    "    alphabet=\"abcdefghijklmnopqrstuvwxyzABCDEFGHIJKLMNOPQRSTUVWXYZ1234567890\"[0:num_characters]\n",
    "    return ''.join([alphabet[random.randint(0,num_characters-1)] for i in range(0,length)])"
   ]
  },
  {
   "cell_type": "code",
   "execution_count": 18,
   "metadata": {},
   "outputs": [],
   "source": [
    "big_test_string_2=rand_string(10000000,2) #Only two characters\n",
    "big_test_string_3=rand_string(10000000,3) #Only three characters"
   ]
  },
  {
   "cell_type": "code",
   "execution_count": 19,
   "metadata": {},
   "outputs": [
    {
     "name": "stdout",
     "output_type": "stream",
     "text": [
      "5.29237699509\n",
      "0.00473499298096\n",
      "0.00600099563599\n"
     ]
    }
   ],
   "source": [
    "test_method(brute_force_biggest_palindrome, big_test_string)\n",
    "test_method(biggest_palindrome, big_test_string)\n",
    "test_method(manachers, big_test_string)"
   ]
  },
  {
   "cell_type": "code",
   "execution_count": 20,
   "metadata": {},
   "outputs": [
    {
     "name": "stdout",
     "output_type": "stream",
     "text": [
      "34.5642850399\n",
      "59.1887221336\n"
     ]
    }
   ],
   "source": [
    "test_method(biggest_palindrome, big_test_string*10000)\n",
    "test_method(manachers, big_test_string*10000)"
   ]
  },
  {
   "cell_type": "markdown",
   "metadata": {},
   "source": [
    "The absolute worse case for my algorithm is when all the characters are the same.  My algorithm should be N^2 in this case, while Manacher's should be N."
   ]
  },
  {
   "cell_type": "code",
   "execution_count": 21,
   "metadata": {},
   "outputs": [],
   "source": [
    "magnifiers=[10,100,1000,10000]"
   ]
  },
  {
   "cell_type": "code",
   "execution_count": 22,
   "metadata": {},
   "outputs": [
    {
     "name": "stdout",
     "output_type": "stream",
     "text": [
      "0.000154972076416\n",
      "0.00323295593262\n",
      "0.229878902435\n",
      "19.0263850689\n"
     ]
    }
   ],
   "source": [
    "for m in magnifiers:\n",
    "    test_method(biggest_palindrome, \"a\"*m)"
   ]
  },
  {
   "cell_type": "code",
   "execution_count": 23,
   "metadata": {},
   "outputs": [
    {
     "name": "stdout",
     "output_type": "stream",
     "text": [
      "0.000200986862183\n",
      "0.000355005264282\n",
      "0.00484299659729\n",
      "0.0198569297791\n"
     ]
    }
   ],
   "source": [
    "for m in magnifiers:\n",
    "    test_method(manachers, \"a\"*m)"
   ]
  },
  {
   "cell_type": "markdown",
   "metadata": {},
   "source": [
    "But even for random strings generated with only two characters, my algorithm still seems to win out."
   ]
  },
  {
   "cell_type": "code",
   "execution_count": 24,
   "metadata": {},
   "outputs": [
    {
     "name": "stdout",
     "output_type": "stream",
     "text": [
      "11.0111079216\n",
      "17.6508998871\n"
     ]
    }
   ],
   "source": [
    "test_method(biggest_palindrome, big_test_string_2)\n",
    "test_method(manachers, big_test_string_2)"
   ]
  },
  {
   "cell_type": "code",
   "execution_count": 26,
   "metadata": {},
   "outputs": [
    {
     "name": "stdout",
     "output_type": "stream",
     "text": [
      "8.87521314621\n",
      "15.5454192162\n"
     ]
    }
   ],
   "source": [
    "test_method(biggest_palindrome, big_test_string_3)\n",
    "test_method(manachers, big_test_string_3)"
   ]
  },
  {
   "cell_type": "code",
   "execution_count": 28,
   "metadata": {},
   "outputs": [
    {
     "ename": "NameError",
     "evalue": "global name 're' is not defined",
     "output_type": "error",
     "traceback": [
      "\u001b[0;31m---------------------------------------------------------------------------\u001b[0m",
      "\u001b[0;31mNameError\u001b[0m                                 Traceback (most recent call last)",
      "\u001b[0;32m<ipython-input-28-262b5b403398>\u001b[0m in \u001b[0;36m<module>\u001b[0;34m()\u001b[0m\n\u001b[0;32m----> 1\u001b[0;31m \u001b[0mtest_method\u001b[0m\u001b[0;34m(\u001b[0m\u001b[0mclean_string\u001b[0m\u001b[0;34m,\u001b[0m \u001b[0mbig_test_string_2\u001b[0m\u001b[0;34m)\u001b[0m\u001b[0;34m\u001b[0m\u001b[0m\n\u001b[0m",
      "\u001b[0;32m<ipython-input-10-157ae5689151>\u001b[0m in \u001b[0;36mtest_method\u001b[0;34m(method, test_string, print_result)\u001b[0m\n\u001b[1;32m      5\u001b[0m     \u001b[0;32mif\u001b[0m \u001b[0mprint_result\u001b[0m\u001b[0;34m:\u001b[0m\u001b[0;34m\u001b[0m\u001b[0m\n\u001b[1;32m      6\u001b[0m         \u001b[0;32mprint\u001b[0m\u001b[0;34m(\u001b[0m\u001b[0mmethod\u001b[0m\u001b[0;34m(\u001b[0m\u001b[0mtest_string\u001b[0m\u001b[0;34m)\u001b[0m\u001b[0;34m)\u001b[0m\u001b[0;34m\u001b[0m\u001b[0m\n\u001b[0;32m----> 7\u001b[0;31m     \u001b[0mmethod\u001b[0m\u001b[0;34m(\u001b[0m\u001b[0mtest_string\u001b[0m\u001b[0;34m)\u001b[0m\u001b[0;34m\u001b[0m\u001b[0m\n\u001b[0m\u001b[1;32m      8\u001b[0m     \u001b[0mt1\u001b[0m \u001b[0;34m=\u001b[0m \u001b[0mtime\u001b[0m\u001b[0;34m.\u001b[0m\u001b[0mtime\u001b[0m\u001b[0;34m(\u001b[0m\u001b[0;34m)\u001b[0m\u001b[0;34m\u001b[0m\u001b[0m\n\u001b[1;32m      9\u001b[0m     \u001b[0;32mprint\u001b[0m\u001b[0;34m(\u001b[0m\u001b[0mt1\u001b[0m\u001b[0;34m-\u001b[0m\u001b[0mt0\u001b[0m\u001b[0;34m)\u001b[0m\u001b[0;34m\u001b[0m\u001b[0m\n",
      "\u001b[0;32m<ipython-input-27-7724ccf62023>\u001b[0m in \u001b[0;36mclean_string\u001b[0;34m(test_string)\u001b[0m\n\u001b[1;32m      1\u001b[0m \u001b[0;32mdef\u001b[0m \u001b[0mclean_string\u001b[0m\u001b[0;34m(\u001b[0m\u001b[0mtest_string\u001b[0m\u001b[0;34m)\u001b[0m\u001b[0;34m:\u001b[0m\u001b[0;34m\u001b[0m\u001b[0m\n\u001b[0;32m----> 2\u001b[0;31m     \u001b[0;32mreturn\u001b[0m \u001b[0mre\u001b[0m\u001b[0;34m.\u001b[0m\u001b[0msub\u001b[0m\u001b[0;34m(\u001b[0m\u001b[0;34m'\\W+'\u001b[0m\u001b[0;34m,\u001b[0m\u001b[0;34m''\u001b[0m\u001b[0;34m,\u001b[0m \u001b[0mtest_string\u001b[0m \u001b[0;34m)\u001b[0m\u001b[0;34m\u001b[0m\u001b[0m\n\u001b[0m",
      "\u001b[0;31mNameError\u001b[0m: global name 're' is not defined"
     ]
    }
   ],
   "source": [
    "test_method(clean_string, big_test_string_2)"
   ]
  },
  {
   "cell_type": "code",
   "execution_count": 29,
   "metadata": {},
   "outputs": [
    {
     "ename": "NameError",
     "evalue": "global name 're' is not defined",
     "output_type": "error",
     "traceback": [
      "\u001b[0;31m---------------------------------------------------------------------------\u001b[0m",
      "\u001b[0;31mNameError\u001b[0m                                 Traceback (most recent call last)",
      "\u001b[0;32m<ipython-input-29-44e501b9aa16>\u001b[0m in \u001b[0;36m<module>\u001b[0;34m()\u001b[0m\n\u001b[0;32m----> 1\u001b[0;31m \u001b[0mclean_string\u001b[0m\u001b[0;34m(\u001b[0m\u001b[0;34m\"hello\"\u001b[0m\u001b[0;34m)\u001b[0m\u001b[0;34m\u001b[0m\u001b[0m\n\u001b[0m",
      "\u001b[0;32m<ipython-input-27-7724ccf62023>\u001b[0m in \u001b[0;36mclean_string\u001b[0;34m(test_string)\u001b[0m\n\u001b[1;32m      1\u001b[0m \u001b[0;32mdef\u001b[0m \u001b[0mclean_string\u001b[0m\u001b[0;34m(\u001b[0m\u001b[0mtest_string\u001b[0m\u001b[0;34m)\u001b[0m\u001b[0;34m:\u001b[0m\u001b[0;34m\u001b[0m\u001b[0m\n\u001b[0;32m----> 2\u001b[0;31m     \u001b[0;32mreturn\u001b[0m \u001b[0mre\u001b[0m\u001b[0;34m.\u001b[0m\u001b[0msub\u001b[0m\u001b[0;34m(\u001b[0m\u001b[0;34m'\\W+'\u001b[0m\u001b[0;34m,\u001b[0m\u001b[0;34m''\u001b[0m\u001b[0;34m,\u001b[0m \u001b[0mtest_string\u001b[0m \u001b[0;34m)\u001b[0m\u001b[0;34m\u001b[0m\u001b[0m\n\u001b[0m",
      "\u001b[0;31mNameError\u001b[0m: global name 're' is not defined"
     ]
    }
   ],
   "source": [
    "clean_string(\"hello\")"
   ]
  },
  {
   "cell_type": "code",
   "execution_count": null,
   "metadata": {},
   "outputs": [],
   "source": []
  }
 ],
 "metadata": {
  "kernelspec": {
   "display_name": "Python 2",
   "language": "python",
   "name": "python2"
  },
  "language_info": {
   "codemirror_mode": {
    "name": "ipython",
    "version": 2
   },
   "file_extension": ".py",
   "mimetype": "text/x-python",
   "name": "python",
   "nbconvert_exporter": "python",
   "pygments_lexer": "ipython2",
   "version": "2.7.17"
  }
 },
 "nbformat": 4,
 "nbformat_minor": 2
}
