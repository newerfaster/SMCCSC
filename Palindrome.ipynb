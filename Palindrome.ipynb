{
 "cells": [
  {
   "cell_type": "markdown",
   "metadata": {},
   "source": [
    "Here is a notebook for testing palindromes.\n",
    "\n",
    "What is a palindrome?  Look at Wikipedia: https://en.wikipedia.org/wiki/Palindrome\n",
    "\n",
    "Want lots of examples?  Look here: http://www.derf.net/palindromes/old.palindrome.html"
   ]
  },
  {
   "cell_type": "code",
   "execution_count": 1,
   "metadata": {},
   "outputs": [],
   "source": [
    "def is_palindrome(test_string):\n",
    "    \"\"\"\n",
    "    This function checks if the string is a palindrome\n",
    "    \"\"\"\n",
    "    l=len(test_string)\n",
    "    half_way=int(l/2) #This is half way through the string (what if l is odd?)\n",
    "    index=0\n",
    "    while (index<half_way and test_string[index]==test_string[l-index-1]):\n",
    "        index=index+1\n",
    "    return index==half_way #If it made it this far, it is a palindrome"
   ]
  },
  {
   "cell_type": "code",
   "execution_count": 2,
   "metadata": {},
   "outputs": [
    {
     "name": "stdout",
     "output_type": "stream",
     "text": [
      "True\n"
     ]
    }
   ],
   "source": [
    "print(is_palindrome(\"racecar\"))"
   ]
  },
  {
   "cell_type": "code",
   "execution_count": 3,
   "metadata": {},
   "outputs": [
    {
     "name": "stdout",
     "output_type": "stream",
     "text": [
      "False\n"
     ]
    }
   ],
   "source": [
    "print(is_palindrome(\"racingcar\"))"
   ]
  },
  {
   "cell_type": "code",
   "execution_count": 4,
   "metadata": {},
   "outputs": [
    {
     "name": "stdout",
     "output_type": "stream",
     "text": [
      "True\n"
     ]
    }
   ],
   "source": [
    "print(is_palindrome(\"steponnopets\"))"
   ]
  },
  {
   "cell_type": "code",
   "execution_count": 5,
   "metadata": {},
   "outputs": [],
   "source": [
    "def brute_force_biggest_palindrome(test_string):\n",
    "    \"\"\"\n",
    "    This function finds the biggest palindrome using a brute force search\n",
    "    \"\"\"\n",
    "    #start by stripping whitespace and punctuation\n",
    "    import re\n",
    "    clean_string = re.sub('\\W+','', test_string )\n",
    "    l=len(clean_string)\n",
    "    big_start=-1\n",
    "    big_end=-1\n",
    "    biggest=0\n",
    "    #Iterate through all substrings and check for palindrome\n",
    "    for i in range(0,l):\n",
    "        for j in range (i+1, l):\n",
    "            current_string=clean_string[i:j]\n",
    "            if is_palindrome(current_string):\n",
    "                if(len(current_string)>biggest):\n",
    "                    biggest=len(current_string)\n",
    "                    big_start=i\n",
    "                    big_end=j\n",
    "    print(clean_string[big_start:big_end])    "
   ]
  },
  {
   "cell_type": "code",
   "execution_count": 6,
   "metadata": {},
   "outputs": [
    {
     "name": "stdout",
     "output_type": "stream",
     "text": [
      "otracecarto\n"
     ]
    }
   ],
   "source": [
    "brute_force_biggest_palindrome(\"I like to drive my hot racecar to the park?\")"
   ]
  },
  {
   "cell_type": "code",
   "execution_count": 7,
   "metadata": {},
   "outputs": [],
   "source": [
    "def biggest_palindrome(test_string):\n",
    "    \"\"\"\n",
    "    This function finds the biggest palindrome more efficiently\n",
    "    \"\"\"\n",
    "    #start by stripping whitespace and punctuation\n",
    "    import re\n",
    "    clean_string = re.sub('\\W+','', test_string )\n",
    "    l=len(clean_string)\n",
    "    candidates=[]\n",
    "    biggest=0\n",
    "    big_start=-1\n",
    "    big_end=-1\n",
    "    surviving=[]\n",
    "    #Iterate through all characters in the string\n",
    "    for i in range(0,l):\n",
    "        #That character is a length 1 palindrome\n",
    "        surviving=[i]\n",
    "        #If the character is repeated, it makes a length 2 palindrome\n",
    "        if clean_string[i-1]==clean_string[i]:\n",
    "            surviving.append(i-1)\n",
    "        for j in candidates:\n",
    "            #Check if the palindrome substring [j:i-1] can be extended to [j-1:i] \n",
    "            if clean_string[j-1]==clean_string[i]:\n",
    "                surviving.append(j-1)\n",
    "            #If not, see if [j:i-1] is worth keeping\n",
    "            else:\n",
    "                if (i-j)> biggest:\n",
    "                    biggest=i-j\n",
    "                    big_start=j\n",
    "                    big_end=i-1\n",
    "        candidates=surviving\n",
    "    #After reaching the end of the string, check all the candidates to see if they are the longest\n",
    "    for j in candidates:\n",
    "        if (l-j)> biggest:\n",
    "                    biggest=l-j\n",
    "                    big_start=j\n",
    "                    big_end=l-1\n",
    "    print(clean_string[big_start:big_end+1])\n",
    "    print(biggest, big_start, big_end)"
   ]
  },
  {
   "cell_type": "code",
   "execution_count": 8,
   "metadata": {},
   "outputs": [
    {
     "name": "stdout",
     "output_type": "stream",
     "text": [
      "heratareh\n",
      "(9, 11, 19)\n"
     ]
    }
   ],
   "source": [
    "biggest_palindrome(\"the hairs of the rat are heavy\")"
   ]
  },
  {
   "cell_type": "code",
   "execution_count": 9,
   "metadata": {},
   "outputs": [
    {
     "name": "stdout",
     "output_type": "stream",
     "text": [
      "elle\n",
      "(4, 4, 7)\n"
     ]
    }
   ],
   "source": [
    "biggest_palindrome(\"the teller is prophetic\")"
   ]
  },
  {
   "cell_type": "code",
   "execution_count": 10,
   "metadata": {},
   "outputs": [],
   "source": [
    "big_test_string=\"ieosoieieiekdkiekwowokdiekieiekdidkghgitheihhhgiehwowooejhdoihaoabaoifoiqo\\\n",
    "fhfhghgheieheidhdodiewososdfhsdoifksdlkhfwslldiofijwoidkjfoiwjokdjkjflsdjfowjjjdjjjdjjsjjsjjd\\\n",
    "iieiidiiekwowkdhhfhfiehfidfhghghgheiehghghghhghghhehehghththghfwoshdfosdfofhfhfhhhhshflsjhffdd\\\n",
    "iririirifkrifkfirkkfkrkkfifffirkrifkrirkfirkkkvkrifkfoekfifkfkfrjgkfjgirjfkfirkfjgkfndkdnfjejff\\\n",
    "isisiisiieieiidiiwiwiisidieieisisiieieiisisieieisisieieisisiieieisieisisieieiisiidiieisiisieiisis\\\n",
    "iiiiiiiiiiiiiitiiiiiiiiiiittiiiiiiiiiiiiiiitiiiiiiiiiihiitiiriieiiriitiiiviisisisisidifisidfisidfi\\\n",
    "sskskslslslslsdfjwodjsdoifsdfjslkfsldkjflskdjfowejfkdjfowjkdodkfjowidfksdjfwdokfjowdijfkkskkskgh\\\n",
    "hggghhghfjghgjfhgjghhghhgjfhgjfhgjjfhggfhgjghfhfjkghgjfhgjfhhfhhgjfhgjfhfjghgjjfjfhgjfhfjghfjhdjfhg\\\n",
    "hghghghhghhghhghghhghhghhggghhgghhghhghhghhghhggghgghghhghhgghgjfhghhghhghghgjjghhghhghhghhggghgghg\\\n",
    "ghhghtyghtyhgythghhghgythgythgjfhgjythgjfythgjdhghghhgjfhgythgyrnfjgyhgjfhgythgjdhghghghfhgjrythgjfhgh\\\n",
    "hghhghtjgyghtjfhghtyghgjfhgythghghhghhgyghtytghghghghghhrythgjdhgyggggfggggggghghgggggghgggghggghggggg\\\n",
    "ggggghgggggghggghgghgghggggghgggghgghgghgythggghghgjfhfjghfjghgghghghgjghfjghghghurhgurjfsdjhfdsjodwhvs\\\n",
    "hhhhhhhhhhghhhhhhhhhhthhhhhhhhhhyhhhhhhhhhhhthhhhhhhhhhhhghhhhhhhhghhghghfhghthhghtuthgufhurhghfhfhfhf\\\n",
    "racecarracecareracecareiiiiiiiiiiiiiiiracecariiiiiiiiiiiiiiiiracecariiiiiiiiracecar\\\n",
    "fhfhghgheieheidhdodiewososdfhsdoifksdlkhfwslldiofijwxoidkjfoiwjokdjkjflsdjfowjjjdjjjdjjsjjsjjd\\\n",
    "iieiidiiekwowkdhhfhfiehfidfhghghgheiehghghghhghghxhehehghththghfwoshdfosdfofhfhfhhhhshflsjhffdd\\\n",
    "iririirifkrifkfirkkfkrkkfifffirkrifkrirkfirkkkxvkrifkfoekfifkfkfrjgkfjgirjfkfirkfjgkfndkdnfjejff\\\n",
    "isisiisiieieiidiiwiwiisidieieisisiieieiisixsieieisisieieisisiieieisieisisieieiisiidiieisiisieiisis\\\n",
    "iiiiiiiiiiiiiitiiiiiiiiiiittiiiiiiiiiixiiiiitiiiiiiiiiihiitiiriieiiriitiiiviisisisisidifisidfisidfi\\\n",
    "sskskslslslslsdfjwodjsdoifsdfjslkfxsldkjflskdjfowejfkdjfowjkdodkfjowidfksdjfwdokfjowdijfkkskkskgh\\\n",
    "hggghhghfjghgjfhgjghhghhgjfhgjfxhgjjfhggfhgjghfhfjkghgjfhgjfhhfhhgjfhgjfhfjghgjjfjfhgjfhfjghfjhdjfhg\\\n",
    "hghghghhghhghhghghhghhghhgggxhhgghhghhghhghhghhggghgghghhghhgghgjfhghhghhghghgjjghhghhghhghhggghgghg\\\n",
    "ghhghtyghtyhgythghhghgythxgythgjfhgjythgjfythgjdhghghhgjfhgythgyrnfjgyhgjfhgythgjdhghghghfhgjrythgjfhgh\\\n",
    "hghhghtjgyghtjfhghtyghxgjfhgythghghhghhgyghtytghghghghghhrythgjdhgyggggfggggggghghgggggghgggghggghggggg\\\n",
    "ggggghgggggghggghggxhgghggggghgggghgghgghgythggghghgjfhfjghfjghgghghghgjghfjghghghurhgurjfsdjhfdsjodwhvs\\\n",
    "hhhhhhhhhhghhhhhhxhhhhthhhhhhhhhhyhhhhhhhhhhhthhhhhhhhhhhhghhhhhhhhghhghghfhghthhghtuthgufhurhghfhfhfhf\\\n",
    "fhfhghgheieheidhdodiewoxxxsosdfhsdoifksdlkhfwslldiofijwoidkjfoiwjokdjkjflsdxxxjfowjjjdjjjdjjsjjsjjd\\\n",
    "iieiidiiekwowkdhhxxfhfiehfidfhghghgheiehghghghhghghhehehghththghfwoshdfosdfofhfhfhhhhshflsjhffdd\\\n",
    "iririirifkrifkfirkkfkrkkfifffirkrifkrirkfirkkkvkrifkxfoekfifkfkfrjgkfjgirjfkfirkfjgkfndkdnfjejff\\\n",
    "isisiisiieieiidiiwiwiisidieieisisiieieiisisieieisisxxxieieisisiieieisieisisieieiisiidiieisiisieiisis\\\n",
    "iiiiiiiiiiiiiitiiiiiiiiiiittiiiiiixiiiiiiiiitiiiiiiiixxiihiitiiriieiiriitiiiviisisisisidifisidfisidfi\\\n",
    "sskskslslslslsdfjwodjsdoifsdfjslkfxsldkjflskdjfowejfkdjfowjkdodkfjowidfksdjfwdokfjowdijfkkskkskgh\\\n",
    "hggghhghfjghgjfhgjghhghhgjfhgjfhgjxjfhggfhgjghfhfjkghgjfhgjfhhfhhgjfhgjfhfjghgjjfjfhgjfhfjghfjhdjfhg\\\n",
    "hghghghhghhghhghghhghhghhggghhxgghhghhghhghhghhggghgghghhghhgghgjfhghhghhghghgjjghhghhghhghhggghgghg\\\n",
    "ghhghtyghtyhgythghhghgythgythgjfxhgjythgjfythgjdhghghhgjfhgythgyrnfjgyhgjfhgythgjdhghghghfhgjrythgjfhgh\\\n",
    "hghhghtjgyghtjfhghtyghgjfhgytxhghghhghhgyghtytghghghghghhrythgjdhgyggggfggggggghghgggggghgggghggghggggg\\\n",
    "ggggghgggggghggghgghgghgggxgghgggghgghgghgythggghghgjfhfjghfjghgghghghgjghfjghghghurhgurjfsdjhfdsjodwhvs\\\n",
    "hhhhhhhhhhghhhhhhhhhhthhhhhxhhhhhyhhhhhhxhhhhhthhhhhhxhhhhhhghhhhhhhhghhghghfhghthhghtuthgufhurhghfhfhfhf\""
   ]
  },
  {
   "cell_type": "code",
   "execution_count": 11,
   "metadata": {},
   "outputs": [
    {
     "name": "stdout",
     "output_type": "stream",
     "text": [
      "iiiiiiiiracecariiiiiiiiiiiiiiiiracecariiiiiiii\n",
      "4.38387608528\n"
     ]
    }
   ],
   "source": [
    "import time\n",
    "t0 = time.time()\n",
    "brute_force_biggest_palindrome(big_test_string)\n",
    "t1 = time.time()\n",
    "print(t1-t0)"
   ]
  },
  {
   "cell_type": "code",
   "execution_count": 12,
   "metadata": {},
   "outputs": [
    {
     "name": "stdout",
     "output_type": "stream",
     "text": [
      "iiiiiiiiracecariiiiiiiiiiiiiiiiracecariiiiiiii\n",
      "(46, 1284, 1329)\n",
      "0.00524306297302\n"
     ]
    }
   ],
   "source": [
    "import time\n",
    "t0 = time.time()\n",
    "biggest_palindrome(big_test_string)\n",
    "t1 = time.time()\n",
    "print(t1-t0)"
   ]
  },
  {
   "cell_type": "code",
   "execution_count": null,
   "metadata": {},
   "outputs": [],
   "source": []
  }
 ],
 "metadata": {
  "kernelspec": {
   "display_name": "Python 2",
   "language": "python",
   "name": "python2"
  },
  "language_info": {
   "codemirror_mode": {
    "name": "ipython",
    "version": 2
   },
   "file_extension": ".py",
   "mimetype": "text/x-python",
   "name": "python",
   "nbconvert_exporter": "python",
   "pygments_lexer": "ipython2",
   "version": "2.7.17"
  }
 },
 "nbformat": 4,
 "nbformat_minor": 2
}
